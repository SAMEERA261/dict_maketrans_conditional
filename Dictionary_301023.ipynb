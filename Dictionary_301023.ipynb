{
 "cells": [
  {
   "cell_type": "markdown",
   "id": "003362d3",
   "metadata": {},
   "source": [
    "## Dictionary{}\n",
    "\n",
    "* Dictionaries are keys and value pairs enclosed in {}\n",
    "\n",
    "* key and values are seperated by ':' while key and value seperated by ','\n",
    "\n",
    "* keys are mapped to their values.\n",
    "\n"
   ]
  },
  {
   "cell_type": "code",
   "execution_count": 1,
   "id": "b4c39944",
   "metadata": {},
   "outputs": [
    {
     "data": {
      "text/plain": [
       "{}"
      ]
     },
     "execution_count": 1,
     "metadata": {},
     "output_type": "execute_result"
    }
   ],
   "source": [
    "r={}#empty dictionary\n",
    "r"
   ]
  },
  {
   "cell_type": "code",
   "execution_count": 2,
   "id": "06300c08",
   "metadata": {},
   "outputs": [
    {
     "data": {
      "text/plain": [
       "{15: [2, 3, 4], 'hello': ['hio']}"
      ]
     },
     "execution_count": 2,
     "metadata": {},
     "output_type": "execute_result"
    }
   ],
   "source": [
    "x={15:[2,3,4],'hello':(4,5,6),'hello':['hio']}#no duplicates are alloweed in dictionaries\n",
    "x"
   ]
  },
  {
   "cell_type": "code",
   "execution_count": 3,
   "id": "431d8af6",
   "metadata": {},
   "outputs": [
    {
     "data": {
      "text/plain": [
       "{15: [2, 3, 4], 'hello': (4, 5, 6), ('f', 'g'): 5}"
      ]
     },
     "execution_count": 3,
     "metadata": {},
     "output_type": "execute_result"
    }
   ],
   "source": [
    "x={15:[2,3,4],'hello':(4,5,6),('f','g'):5}\n",
    "x"
   ]
  },
  {
   "cell_type": "code",
   "execution_count": 4,
   "id": "af03cb19",
   "metadata": {},
   "outputs": [
    {
     "data": {
      "text/plain": [
       "[2, 3, 4]"
      ]
     },
     "execution_count": 4,
     "metadata": {},
     "output_type": "execute_result"
    }
   ],
   "source": [
    "x[15]#accessingd items in an dict class"
   ]
  },
  {
   "cell_type": "code",
   "execution_count": 5,
   "id": "effe35dd",
   "metadata": {},
   "outputs": [
    {
     "data": {
      "text/plain": [
       "(4, 5, 6)"
      ]
     },
     "execution_count": 5,
     "metadata": {},
     "output_type": "execute_result"
    }
   ],
   "source": [
    "x['hello']"
   ]
  },
  {
   "cell_type": "code",
   "execution_count": 6,
   "id": "1a31b0d7",
   "metadata": {},
   "outputs": [
    {
     "data": {
      "text/plain": [
       "['__class__',\n",
       " '__class_getitem__',\n",
       " '__contains__',\n",
       " '__delattr__',\n",
       " '__delitem__',\n",
       " '__dir__',\n",
       " '__doc__',\n",
       " '__eq__',\n",
       " '__format__',\n",
       " '__ge__',\n",
       " '__getattribute__',\n",
       " '__getitem__',\n",
       " '__getstate__',\n",
       " '__gt__',\n",
       " '__hash__',\n",
       " '__init__',\n",
       " '__init_subclass__',\n",
       " '__ior__',\n",
       " '__iter__',\n",
       " '__le__',\n",
       " '__len__',\n",
       " '__lt__',\n",
       " '__ne__',\n",
       " '__new__',\n",
       " '__or__',\n",
       " '__reduce__',\n",
       " '__reduce_ex__',\n",
       " '__repr__',\n",
       " '__reversed__',\n",
       " '__ror__',\n",
       " '__setattr__',\n",
       " '__setitem__',\n",
       " '__sizeof__',\n",
       " '__str__',\n",
       " '__subclasshook__',\n",
       " 'clear',\n",
       " 'copy',\n",
       " 'fromkeys',\n",
       " 'get',\n",
       " 'items',\n",
       " 'keys',\n",
       " 'pop',\n",
       " 'popitem',\n",
       " 'setdefault',\n",
       " 'update',\n",
       " 'values']"
      ]
     },
     "execution_count": 6,
     "metadata": {},
     "output_type": "execute_result"
    }
   ],
   "source": [
    "dir(dict)"
   ]
  },
  {
   "cell_type": "code",
   "execution_count": 7,
   "id": "8933506b",
   "metadata": {},
   "outputs": [
    {
     "name": "stdout",
     "output_type": "stream",
     "text": [
      "clear\n",
      "copy\n",
      "fromkeys\n",
      "get\n",
      "items\n",
      "keys\n",
      "pop\n",
      "popitem\n",
      "setdefault\n",
      "update\n",
      "values\n"
     ]
    }
   ],
   "source": [
    "print('clear',\n",
    " 'copy',\n",
    " 'fromkeys',\n",
    " 'get',\n",
    " 'items',\n",
    " 'keys',\n",
    " 'pop',\n",
    " 'popitem',\n",
    " 'setdefault',\n",
    " 'update',\n",
    " 'values',sep='\\n')"
   ]
  },
  {
   "cell_type": "markdown",
   "id": "8611b887",
   "metadata": {},
   "source": [
    "### Methods of Dictionary:\n",
    "* Python has a set of built-in methods that you can use on dictionaries.\n",
    "1. clear:Removes all the elements from the dictionary\n",
    "2. copy:Returns a copy of the dictionary\n",
    "3. fromkeys:Returns a dictionary with the specified keys and value\n",
    "4. get:Returns the value of the specified key\n",
    "5. items:Returns a list containing a tuple for each key value pair\n",
    "6. keys:Returns a list containing the dictionary's keys\n",
    "7. pop:\tRemoves the element with the specified key\n",
    "8. popitem:Removes the last inserted key-value pair\n",
    "9. setdefault:Returns the value of the specified key. If the key does not exist: insert the key, with the specified value\n",
    "10. update:\tUpdates the dictionary with the specified key-value pairsReturns a list of all the values in the dictionary\n",
    "11. values:Returns a list of all the values in the dictionary"
   ]
  },
  {
   "cell_type": "markdown",
   "id": "19892f97",
   "metadata": {},
   "source": [
    "#### clear()\n",
    "* syntax: dictionary.clear()"
   ]
  },
  {
   "cell_type": "code",
   "execution_count": 8,
   "id": "692172c1",
   "metadata": {},
   "outputs": [
    {
     "data": {
      "text/plain": [
       "{'sam': 1234, 'x': (1, 2, 3, 4), 'y': 11}"
      ]
     },
     "execution_count": 8,
     "metadata": {},
     "output_type": "execute_result"
    }
   ],
   "source": [
    "s={'sam':1234,'x':(1,2,3,4),'y':11}\n",
    "s\n"
   ]
  },
  {
   "cell_type": "code",
   "execution_count": 9,
   "id": "4d6a3696",
   "metadata": {},
   "outputs": [
    {
     "name": "stdout",
     "output_type": "stream",
     "text": [
      "{}\n"
     ]
    }
   ],
   "source": [
    "z=s.clear()#clears the data\n",
    "print(s)"
   ]
  },
  {
   "cell_type": "markdown",
   "id": "466ddf26",
   "metadata": {},
   "source": [
    "#### copy()\n",
    "* syntax: dict.copy()"
   ]
  },
  {
   "cell_type": "code",
   "execution_count": 10,
   "id": "f8c5a4b7",
   "metadata": {},
   "outputs": [
    {
     "name": "stdout",
     "output_type": "stream",
     "text": [
      "{'s': [12, 13, 14], 'y': 15}\n",
      "{'s': [12, 13, 14], 'y': 15}\n"
     ]
    }
   ],
   "source": [
    "a={'s':[12,13,14],'y':15}\n",
    "b=a.copy()\n",
    "print(a)\n",
    "print(b)"
   ]
  },
  {
   "cell_type": "markdown",
   "id": "34f4217a",
   "metadata": {},
   "source": [
    "#### fromkeys()\n",
    "* syntax:dict.fromkeys(keys,value)"
   ]
  },
  {
   "cell_type": "code",
   "execution_count": 11,
   "id": "d19ac9ff",
   "metadata": {},
   "outputs": [
    {
     "data": {
      "text/plain": [
       "{15: [2, 3, 4], 'hello': (4, 5, 6), ('f', 'g'): 5}"
      ]
     },
     "execution_count": 11,
     "metadata": {},
     "output_type": "execute_result"
    }
   ],
   "source": [
    "x"
   ]
  },
  {
   "cell_type": "code",
   "execution_count": 12,
   "id": "6b68bcc6",
   "metadata": {
    "scrolled": true
   },
   "outputs": [
    {
     "name": "stdout",
     "output_type": "stream",
     "text": [
      "{15: None, 'hello': None, ('f', 'g'): None}\n"
     ]
    }
   ],
   "source": [
    "print(x.fromkeys(x))"
   ]
  },
  {
   "cell_type": "markdown",
   "id": "94294782",
   "metadata": {},
   "source": [
    "#### get()\n",
    "* syntax: dictionary.get(keyname,value)"
   ]
  },
  {
   "cell_type": "code",
   "execution_count": 13,
   "id": "886fd615",
   "metadata": {},
   "outputs": [
    {
     "data": {
      "text/plain": [
       "{15: [2, 3, 4], 'hello': (4, 5, 6), ('f', 'g'): 5}"
      ]
     },
     "execution_count": 13,
     "metadata": {},
     "output_type": "execute_result"
    }
   ],
   "source": [
    "x"
   ]
  },
  {
   "cell_type": "code",
   "execution_count": 14,
   "id": "887897c6",
   "metadata": {},
   "outputs": [
    {
     "name": "stdout",
     "output_type": "stream",
     "text": [
      "(4, 5, 6)\n"
     ]
    }
   ],
   "source": [
    "print(x.get('hello'))#gets the values for the mentioned key"
   ]
  },
  {
   "cell_type": "markdown",
   "id": "57bcd437",
   "metadata": {},
   "source": [
    "#### items()\n",
    "* syntax: dictionary.item()"
   ]
  },
  {
   "cell_type": "code",
   "execution_count": 15,
   "id": "6898996b",
   "metadata": {},
   "outputs": [
    {
     "data": {
      "text/plain": [
       "{15: [2, 3, 4], 'hello': (4, 5, 6), ('f', 'g'): 5}"
      ]
     },
     "execution_count": 15,
     "metadata": {},
     "output_type": "execute_result"
    }
   ],
   "source": [
    "x"
   ]
  },
  {
   "cell_type": "code",
   "execution_count": 16,
   "id": "843eed29",
   "metadata": {},
   "outputs": [
    {
     "data": {
      "text/plain": [
       "dict_items([(15, [2, 3, 4]), ('hello', (4, 5, 6)), (('f', 'g'), 5)])"
      ]
     },
     "execution_count": 16,
     "metadata": {},
     "output_type": "execute_result"
    }
   ],
   "source": [
    "x.items()#will show thw items by seprate with comma "
   ]
  },
  {
   "cell_type": "markdown",
   "id": "6cd021f6",
   "metadata": {},
   "source": [
    "#### keys()\n",
    "* syntax: dict.keys()"
   ]
  },
  {
   "cell_type": "code",
   "execution_count": 17,
   "id": "a49e2458",
   "metadata": {},
   "outputs": [
    {
     "data": {
      "text/plain": [
       "{15: [2, 3, 4], 'hello': (4, 5, 6), ('f', 'g'): 5}"
      ]
     },
     "execution_count": 17,
     "metadata": {},
     "output_type": "execute_result"
    }
   ],
   "source": [
    "x"
   ]
  },
  {
   "cell_type": "code",
   "execution_count": 18,
   "id": "4a154d44",
   "metadata": {},
   "outputs": [
    {
     "name": "stdout",
     "output_type": "stream",
     "text": [
      "dict_keys([15, 'hello', ('f', 'g')])\n",
      "<class 'dict_keys'>\n",
      "3\n"
     ]
    }
   ],
   "source": [
    "a=x.keys()\n",
    "print(a,type(a),len(a),sep='\\n')"
   ]
  },
  {
   "cell_type": "markdown",
   "id": "26c73200",
   "metadata": {},
   "source": [
    "#### pop()\n",
    "* syntax:dictionary.pop(key[default])"
   ]
  },
  {
   "cell_type": "code",
   "execution_count": 19,
   "id": "a7cdac5d",
   "metadata": {},
   "outputs": [
    {
     "data": {
      "text/plain": [
       "{15: [2, 3, 4], 'hello': (4, 5, 6), ('f', 'g'): 5}"
      ]
     },
     "execution_count": 19,
     "metadata": {},
     "output_type": "execute_result"
    }
   ],
   "source": [
    "x"
   ]
  },
  {
   "cell_type": "code",
   "execution_count": 20,
   "id": "2e64cbed",
   "metadata": {},
   "outputs": [
    {
     "name": "stdout",
     "output_type": "stream",
     "text": [
      "[2, 3, 4]\n"
     ]
    },
    {
     "data": {
      "text/plain": [
       "{'hello': (4, 5, 6), ('f', 'g'): 5}"
      ]
     },
     "execution_count": 20,
     "metadata": {},
     "output_type": "execute_result"
    }
   ],
   "source": [
    "print(x.pop(15))\n",
    "x"
   ]
  },
  {
   "cell_type": "code",
   "execution_count": 21,
   "id": "5121676d",
   "metadata": {},
   "outputs": [
    {
     "data": {
      "text/plain": [
       "{'hello': (4, 5, 6), ('f', 'g'): 5}"
      ]
     },
     "execution_count": 21,
     "metadata": {},
     "output_type": "execute_result"
    }
   ],
   "source": [
    "x"
   ]
  },
  {
   "cell_type": "markdown",
   "id": "95ee36e6",
   "metadata": {},
   "source": [
    "#### popitem()\n",
    "* syntax:dict.popitem()"
   ]
  },
  {
   "cell_type": "code",
   "execution_count": 22,
   "id": "ae79b49f",
   "metadata": {},
   "outputs": [
    {
     "name": "stdout",
     "output_type": "stream",
     "text": [
      "('c', [1, 2, 3, 4])\n"
     ]
    }
   ],
   "source": [
    "h={'a':(11,12,23,34),'b':'hello world','c':[1,2,3,4]}\n",
    "print(h.popitem())"
   ]
  },
  {
   "cell_type": "markdown",
   "id": "c951f296",
   "metadata": {},
   "source": [
    "#### setdefault()\n",
    "* syntax: dictionary.setdefault(keyname,value)\n"
   ]
  },
  {
   "cell_type": "code",
   "execution_count": 23,
   "id": "b40b01d5",
   "metadata": {},
   "outputs": [
    {
     "data": {
      "text/plain": [
       "{'a': (11, 12, 23, 34), 'b': 'hello world'}"
      ]
     },
     "execution_count": 23,
     "metadata": {},
     "output_type": "execute_result"
    }
   ],
   "source": [
    "h"
   ]
  },
  {
   "cell_type": "code",
   "execution_count": 24,
   "id": "1f3aca9d",
   "metadata": {},
   "outputs": [
    {
     "name": "stdout",
     "output_type": "stream",
     "text": [
      "hello world\n",
      "(11, 12, 23, 34)\n"
     ]
    }
   ],
   "source": [
    "y=h.setdefault('a',(11,12,23,34))\n",
    "x=h.setdefault('b','hey worlds')\n",
    "print(x)\n",
    "print(y)"
   ]
  },
  {
   "cell_type": "markdown",
   "id": "a82f6c07",
   "metadata": {},
   "source": [
    "#### update()\n",
    "* syntax:dict.update([other])\n"
   ]
  },
  {
   "cell_type": "code",
   "execution_count": 25,
   "id": "a6ce211d",
   "metadata": {},
   "outputs": [
    {
     "data": {
      "text/plain": [
       "{'a': (11, 12, 23, 34), 'b': 'hello world'}"
      ]
     },
     "execution_count": 25,
     "metadata": {},
     "output_type": "execute_result"
    }
   ],
   "source": [
    "h"
   ]
  },
  {
   "cell_type": "code",
   "execution_count": 26,
   "id": "f149f0bb",
   "metadata": {},
   "outputs": [
    {
     "name": "stdout",
     "output_type": "stream",
     "text": [
      "{'a': (11, 12, 23, 34), 'b': 'hello world', 'p': [1, 2, 3, 4], 'k': 'we are here'}\n"
     ]
    }
   ],
   "source": [
    "h.update([('p',[1,2,3,4]),('k','we are here')])\n",
    "print(h)"
   ]
  },
  {
   "cell_type": "markdown",
   "id": "ae2855bb",
   "metadata": {},
   "source": [
    "#### values()\n",
    "* syntax: dictionary.values()"
   ]
  },
  {
   "cell_type": "code",
   "execution_count": 27,
   "id": "75a291c1",
   "metadata": {},
   "outputs": [
    {
     "data": {
      "text/plain": [
       "{'a': (11, 12, 23, 34),\n",
       " 'b': 'hello world',\n",
       " 'p': [1, 2, 3, 4],\n",
       " 'k': 'we are here'}"
      ]
     },
     "execution_count": 27,
     "metadata": {},
     "output_type": "execute_result"
    }
   ],
   "source": [
    "h"
   ]
  },
  {
   "cell_type": "code",
   "execution_count": 28,
   "id": "35b4635b",
   "metadata": {},
   "outputs": [
    {
     "data": {
      "text/plain": [
       "dict_values([(11, 12, 23, 34), 'hello world', [1, 2, 3, 4], 'we are here'])"
      ]
     },
     "execution_count": 28,
     "metadata": {},
     "output_type": "execute_result"
    }
   ],
   "source": [
    "h.values()"
   ]
  },
  {
   "cell_type": "markdown",
   "id": "a2397187",
   "metadata": {},
   "source": [
    "## string methods\n",
    "* maketrans() and translate() in python\n",
    "\n",
    "* The maketrans() method returns a mapping table that can be used with the translate() method to replace specified characters.\n",
    "\n",
    "   syntax :str.maketrans(x, y, z)\n",
    "   \n",
    "* The translate() method returns a string where some specified characters are replaced with the character described in a dictionary, or in a mapping table.\n",
    "\n",
    "  Use the maketrans() method to create a mapping table.\n",
    " \n",
    "  If a character is not specified in the dictionary/table, the character will not be replaced.\n",
    "\n",
    "  If you use a dictionary, you must use ascii codes instead of characters.\n",
    "\n",
    "   syntax : string.translate(table)\n",
    "\n"
   ]
  },
  {
   "cell_type": "code",
   "execution_count": 29,
   "id": "d392abc5",
   "metadata": {},
   "outputs": [
    {
     "name": "stdout",
     "output_type": "stream",
     "text": [
      "Hello Pam!\n"
     ]
    }
   ],
   "source": [
    "#Create a mapping table, and use it in the translate() method to replace any \"S\" characters with a \"P\" character:\n",
    "txt = \"Hello Sam!\"\n",
    "mytable = str.maketrans(\"S\", \"P\")\n",
    "print(txt.translate(mytable))"
   ]
  },
  {
   "cell_type": "code",
   "execution_count": 30,
   "id": "ae489890",
   "metadata": {},
   "outputs": [
    {
     "name": "stdout",
     "output_type": "stream",
     "text": [
      "Hello Pam!\n"
     ]
    }
   ],
   "source": [
    "#use a dictionary with ascii codes to replace 83 (S) with 80 (P):\n",
    "mydict = {83:  80}\n",
    "txt = \"Hello Sam!\"\n",
    "print(txt.translate(mydict))"
   ]
  },
  {
   "cell_type": "code",
   "execution_count": 31,
   "id": "10387bd9",
   "metadata": {},
   "outputs": [
    {
     "name": "stdout",
     "output_type": "stream",
     "text": [
      "G i Joe!\n"
     ]
    }
   ],
   "source": [
    "txt = \"Good night Sam!\"\n",
    "mydict = {109: 101, 83: 74, 97: 111, 111: None, 100: None, 110: None, 103: None, 104: None, 116: None}\n",
    "print(txt.translate(mydict))"
   ]
  },
  {
   "cell_type": "markdown",
   "id": "e3fcd97b",
   "metadata": {},
   "source": [
    "## conditional statement:\n",
    "* The if statement allows you to execute a block of code if a certain condition is true.\n",
    "\n",
    "* The else statement allows you to execute a different block of code if the if condition is False.\n",
    "\n",
    "* The elif statement allows you to check multiple conditions in sequence, and execute different code blocks depending on which condition is true."
   ]
  },
  {
   "cell_type": "code",
   "execution_count": 32,
   "id": "602ee3c1",
   "metadata": {},
   "outputs": [
    {
     "name": "stdout",
     "output_type": "stream",
     "text": [
      "very good\n"
     ]
    }
   ],
   "source": [
    "marks=85\n",
    "if marks >= 90:\n",
    "    print(\"Excellent\")\n",
    "elif marks >= 80:\n",
    "    print(\"very good\")\n",
    "elif marks >= 70:\n",
    "     print(\"Good\")\n",
    "elif marks >= 60:\n",
    "     print(\"Average\")\n",
    "        "
   ]
  },
  {
   "cell_type": "code",
   "execution_count": 44,
   "id": "e5eb4cbe",
   "metadata": {},
   "outputs": [
    {
     "name": "stdout",
     "output_type": "stream",
     "text": [
      "scored : 65\n",
      "Average\n"
     ]
    }
   ],
   "source": [
    "performance=input('scored : ')\n",
    "scored=65\n",
    "if scored >= 90:\n",
    "    print(\"Excellent\")\n",
    "elif scored >= 80:\n",
    "    print(\"very good\")\n",
    "elif scored >= 70:\n",
    "     print(\"Good\")\n",
    "elif scored >= 60:\n",
    "     print(\"Average\")\n",
    "           "
   ]
  },
  {
   "cell_type": "code",
   "execution_count": null,
   "id": "45a66365",
   "metadata": {},
   "outputs": [],
   "source": []
  }
 ],
 "metadata": {
  "kernelspec": {
   "display_name": "Python 3 (ipykernel)",
   "language": "python",
   "name": "python3"
  },
  "language_info": {
   "codemirror_mode": {
    "name": "ipython",
    "version": 3
   },
   "file_extension": ".py",
   "mimetype": "text/x-python",
   "name": "python",
   "nbconvert_exporter": "python",
   "pygments_lexer": "ipython3",
   "version": "3.11.5"
  }
 },
 "nbformat": 4,
 "nbformat_minor": 5
}
